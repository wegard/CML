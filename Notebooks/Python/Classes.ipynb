{
 "cells": [
  {
   "cell_type": "markdown",
   "metadata": {
    "vscode": {
     "languageId": "bat"
    }
   },
   "source": [
    "# Classes and Object Oriented Programming (OOP)\n",
    "\n",
    "#### *Vegard H. Larsen (Department of Data Science and Analytics)*"
   ]
  },
  {
   "cell_type": "markdown",
   "metadata": {},
   "source": [
    "Classes is a part of Object-Oriented Programming (OOP), a paradigm centered around crafting blueprints for objects—data structures comprising both variables (attributes) and functions (methods). A class acts as this blueprint, and once defined, multiple \"instances\" or \"objects\" of that class can be created. For instance, a `Car` class might have attributes like `color` and `brand`, and methods like `drive()` or `honk()`. By creating an instance, say `my_car = Car()`, one can access and manipulate its attributes and invoke its methods. OOP emphasizes concepts like inheritance (where a new class can inherit attributes and methods from an existing class) and encapsulation (bundling data and methods acting on that data). "
   ]
  },
  {
   "cell_type": "markdown",
   "metadata": {},
   "source": [
    "## Classes\n",
    "\n",
    "- Classes allows us to create objects \n",
    "- Python is an object-oriented programming language \n",
    "- Almost everything in Python is an object\n",
    "- A class is like an object constructor\n",
    "- A **method** is a function that belongs to a specific class of objects\n",
    "- An **attribute** is a variable that belongs to a specific class of objects\n",
    "- Classes and OOP can very powerful and is a fundamental part of Python"
   ]
  },
  {
   "cell_type": "markdown",
   "metadata": {},
   "source": [
    "## Let's create a class that defines a user"
   ]
  },
  {
   "cell_type": "code",
   "execution_count": null,
   "metadata": {},
   "outputs": [],
   "source": [
    "class User:\n",
    "    pass"
   ]
  },
  {
   "cell_type": "code",
   "execution_count": null,
   "metadata": {
    "vscode": {
     "languageId": "plaintext"
    }
   },
   "outputs": [],
   "source": [
    "vegard = User()\n",
    "type(vegard)"
   ]
  },
  {
   "cell_type": "code",
   "execution_count": null,
   "metadata": {
    "vscode": {
     "languageId": "plaintext"
    }
   },
   "outputs": [],
   "source": [
    "dir(list)"
   ]
  },
  {
   "cell_type": "markdown",
   "metadata": {
    "vscode": {
     "languageId": "plaintext"
    }
   },
   "source": [
    "## The `__init__()` method:"
   ]
  },
  {
   "cell_type": "code",
   "execution_count": null,
   "metadata": {},
   "outputs": [],
   "source": [
    "class User:\n",
    "    '''\n",
    "    A class for storing information about a user .....djk9hjdsklhd\n",
    "    '''\n",
    "    \n",
    "    def __init__(self, name):\n",
    "        self.user_name = name"
   ]
  },
  {
   "cell_type": "code",
   "execution_count": null,
   "metadata": {},
   "outputs": [],
   "source": [
    "v = User('vegard')"
   ]
  },
  {
   "cell_type": "code",
   "execution_count": null,
   "metadata": {},
   "outputs": [],
   "source": [
    "v.user_name"
   ]
  },
  {
   "cell_type": "code",
   "execution_count": null,
   "metadata": {},
   "outputs": [],
   "source": [
    "a = User('anne')"
   ]
  },
  {
   "cell_type": "code",
   "execution_count": null,
   "metadata": {},
   "outputs": [],
   "source": [
    "a.user_name"
   ]
  },
  {
   "cell_type": "code",
   "execution_count": null,
   "metadata": {},
   "outputs": [],
   "source": [
    "v?"
   ]
  },
  {
   "cell_type": "markdown",
   "metadata": {},
   "source": [
    "## Add a password to the user"
   ]
  },
  {
   "cell_type": "code",
   "execution_count": null,
   "metadata": {},
   "outputs": [],
   "source": [
    "class User:\n",
    "    '''\n",
    "    A class for storing information about a user\n",
    "    '''\n",
    "    \n",
    "    def __init__(self, name):\n",
    "        self.user_name = name\n",
    "    \n",
    "    \n",
    "    def set_password(self, passwd):\n",
    "        '''\n",
    "        This method creates a password for the user\n",
    "        '''\n",
    "        \n",
    "        passwd_check = input('Please re-enter the password here: ')\n",
    "        \n",
    "        if passwd == passwd_check:\n",
    "            self.password = passwd\n",
    "            print('The password is set')\n",
    "        else:\n",
    "            print('The password did not match, please try again!')"
   ]
  },
  {
   "cell_type": "code",
   "execution_count": null,
   "metadata": {},
   "outputs": [],
   "source": [
    "lisa = User('Lisa')"
   ]
  },
  {
   "cell_type": "code",
   "execution_count": null,
   "metadata": {},
   "outputs": [],
   "source": [
    "lisa.set_password('12345')"
   ]
  },
  {
   "cell_type": "code",
   "execution_count": null,
   "metadata": {},
   "outputs": [],
   "source": [
    "lisa.password"
   ]
  },
  {
   "cell_type": "code",
   "execution_count": null,
   "metadata": {},
   "outputs": [],
   "source": [
    "print(lisa)"
   ]
  },
  {
   "cell_type": "code",
   "execution_count": null,
   "metadata": {},
   "outputs": [],
   "source": [
    "# using the __repr__ method we can specify how the print function works with our object\n",
    "\n",
    "class User:\n",
    "    '''\n",
    "    A class for storing information about a user\n",
    "    '''\n",
    "    \n",
    "    def __init__(self, name):\n",
    "        self.user_name = name\n",
    "        \n",
    "    def __repr__(self):\n",
    "        return self.user_name\n",
    "    \n",
    "    def __add__(self, other):\n",
    "        return self.user_name + ' ' + other.user_name\n",
    "    \n",
    "    def set_password(self, passwd):\n",
    "        '''\n",
    "        This method creates a password for the user\n",
    "        '''\n",
    "        \n",
    "        passwd_check = input('Please re-enter the password here: ')\n",
    "        \n",
    "        if passwd == passwd_check:\n",
    "            self.password = passwd\n",
    "            print('The password is set')\n",
    "        else:\n",
    "            print('The passwords did not match, please try again!')"
   ]
  },
  {
   "cell_type": "code",
   "execution_count": null,
   "metadata": {},
   "outputs": [],
   "source": [
    "lisa = User('Lisa')"
   ]
  },
  {
   "cell_type": "code",
   "execution_count": null,
   "metadata": {},
   "outputs": [],
   "source": [
    "print(lisa)"
   ]
  },
  {
   "cell_type": "code",
   "execution_count": null,
   "metadata": {},
   "outputs": [],
   "source": [
    "vegard = User('vegard')"
   ]
  },
  {
   "cell_type": "code",
   "execution_count": null,
   "metadata": {},
   "outputs": [],
   "source": [
    "lisa"
   ]
  },
  {
   "cell_type": "code",
   "execution_count": null,
   "metadata": {},
   "outputs": [],
   "source": [
    "vegard"
   ]
  },
  {
   "cell_type": "code",
   "execution_count": null,
   "metadata": {},
   "outputs": [],
   "source": [
    "lisa + vegard"
   ]
  },
  {
   "cell_type": "code",
   "execution_count": null,
   "metadata": {},
   "outputs": [],
   "source": [
    "vegard.__add__(lisa)"
   ]
  },
  {
   "cell_type": "code",
   "execution_count": null,
   "metadata": {},
   "outputs": [],
   "source": [
    "a_string = 'test'\n",
    "b_string = 'nnn'"
   ]
  },
  {
   "cell_type": "code",
   "execution_count": null,
   "metadata": {},
   "outputs": [],
   "source": [
    "a_string.__add__(b_string)"
   ]
  },
  {
   "cell_type": "code",
   "execution_count": null,
   "metadata": {},
   "outputs": [],
   "source": [
    "a_string + ' ' + b_string"
   ]
  }
 ],
 "metadata": {
  "language_info": {
   "name": "python"
  }
 },
 "nbformat": 4,
 "nbformat_minor": 2
}
