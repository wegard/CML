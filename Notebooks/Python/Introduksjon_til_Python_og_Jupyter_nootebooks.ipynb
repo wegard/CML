{
 "cells": [
  {
   "cell_type": "markdown",
   "metadata": {},
   "source": [
    "# Introduksjon til Python og Jupyter Notebooks\n",
    "\n",
    "Dette er en introduksjon til Python og Jupyter Notebooks. Python er et programmeringsspråk som er enkelt å lære og som er mye brukt innen dataanalyse og maskinlæring. Jupyter Notebooks er et interaktivt verktøy som lar deg skrive og kjøre Python-kode i nettleseren.\n",
    "\n",
    "## Hva er Python?\n"
   ]
  }
 ],
 "metadata": {
  "language_info": {
   "name": "python"
  }
 },
 "nbformat": 4,
 "nbformat_minor": 2
}
