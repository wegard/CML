{
 "cells": [
  {
   "cell_type": "markdown",
   "id": "8eb35658",
   "metadata": {
    "slideshow": {
     "slide_type": "slide"
    }
   },
   "source": [
    "# The Standard Library\n",
    "\n",
    "#### *Vegard H. Larsen (Department of Data Science and Analytics)*"
   ]
  },
  {
   "cell_type": "markdown",
   "id": "732d150b",
   "metadata": {
    "slideshow": {
     "slide_type": "slide"
    }
   },
   "source": [
    "# 1. The Python Standard Library\n",
    "\n",
    "The Python Standard Library, often regarded as one of Python's most powerful assets, is a vast collection of modules and tools that come bundled with the language itself, eliminating the need for external installations. This library offers solutions for a myriad of tasks, from file handling (`os`, `shutil`), to web interactions (`urllib`), data serialization (`json`, `pickle`), and even advanced mathematical operations (`math`, `statistics`). By importing and leveraging these modules, you can significantly enhance your programs' capabilities without reinventing the wheel. Exploring the Python Standard Library accelerates a beginner's journey, as it provides ready-made building blocks that cater to diverse programming challenges, making Python especially appealing for its breadth of utilities and ease of use."
   ]
  },
  {
   "cell_type": "markdown",
   "id": "c08b66dd",
   "metadata": {
    "slideshow": {
     "slide_type": "slide"
    }
   },
   "source": [
    "### The Python Standard Library can be found here\n",
    "https://docs.python.org/3/library/\n",
    "\n",
    "The Python Standard Library is a collection of script modules that can be imported into a Python program to simplify the code and remove the need to rewrite commonly used commands. \n",
    "\n",
    "Some examples of frequently used modules are:\n",
    "- `math` - Provides access to mathematical functions\n",
    "- `random` - Access to a pseudo-random number generator\n",
    "- `datetime`- Support for manipulating dates and times\n",
    "- `time` - Various time-related function\n",
    "- `re` - Regular expression matching operations\n",
    "- `statistics` — Mathematical statistics functions"
   ]
  },
  {
   "cell_type": "markdown",
   "id": "1f76f449",
   "metadata": {
    "slideshow": {
     "slide_type": "slide"
    }
   },
   "source": [
    "## Example usage of the Standard Library"
   ]
  },
  {
   "cell_type": "code",
   "execution_count": 4,
   "id": "fafd3e8e",
   "metadata": {
    "ExecuteTime": {
     "end_time": "2023-08-11T12:27:19.381181Z",
     "start_time": "2023-08-11T12:27:19.112418Z"
    },
    "slideshow": {
     "slide_type": "-"
    }
   },
   "outputs": [
    {
     "name": "stdout",
     "output_type": "stream",
     "text": [
      "-1.0\n",
      "1.0\n"
     ]
    }
   ],
   "source": [
    "# Print out  cos(2*pi) and the log_e(e^5) = ln(e^5)\n",
    "\n",
    "import math\n",
    "\n",
    "print(math.cos(3*math.pi))\n",
    "print(math.log(math.e))"
   ]
  },
  {
   "cell_type": "code",
   "execution_count": 5,
   "id": "9e53a43a-28c6-4f5b-9333-8a6c0c8cc4d5",
   "metadata": {},
   "outputs": [
    {
     "data": {
      "text/plain": [
       "2.718281828459045"
      ]
     },
     "execution_count": 5,
     "metadata": {},
     "output_type": "execute_result"
    }
   ],
   "source": [
    "math.e"
   ]
  },
  {
   "cell_type": "code",
   "execution_count": 10,
   "id": "85e3d3fc",
   "metadata": {
    "ExecuteTime": {
     "end_time": "2023-08-11T12:27:19.381401Z",
     "start_time": "2023-08-11T12:27:19.116553Z"
    },
    "slideshow": {
     "slide_type": "fragment"
    }
   },
   "outputs": [
    {
     "data": {
      "text/plain": [
       "'Bergen'"
      ]
     },
     "execution_count": 10,
     "metadata": {},
     "output_type": "execute_result"
    }
   ],
   "source": [
    "# Pick a random Norwegian city\n",
    "\n",
    "import random\n",
    "\n",
    "random.choice(['Oslo', 'Bergen', 'Trondheim', 'Stavanger', 'Tromsø'])"
   ]
  },
  {
   "cell_type": "code",
   "execution_count": 11,
   "id": "188793e2",
   "metadata": {
    "ExecuteTime": {
     "end_time": "2023-08-11T12:27:19.381514Z",
     "start_time": "2023-08-11T12:27:19.119351Z"
    },
    "slideshow": {
     "slide_type": "fragment"
    }
   },
   "outputs": [
    {
     "name": "stdout",
     "output_type": "stream",
     "text": [
      "2002-12-31\n"
     ]
    }
   ],
   "source": [
    "# A date corresponding to a date_string given in the format YYYY-MM-DD\n",
    "\n",
    "from datetime import date\n",
    "\n",
    "d = date(2002, 12, 31)\n",
    "print(d)"
   ]
  },
  {
   "cell_type": "code",
   "execution_count": 12,
   "id": "ed0a69bf-8c50-4da3-bece-876a09af029f",
   "metadata": {},
   "outputs": [
    {
     "data": {
      "text/plain": [
       "datetime.date"
      ]
     },
     "execution_count": 12,
     "metadata": {},
     "output_type": "execute_result"
    }
   ],
   "source": [
    "type(d)"
   ]
  },
  {
   "cell_type": "code",
   "execution_count": 13,
   "id": "d99a1ba7-b896-41f8-9cf1-09a032751e23",
   "metadata": {},
   "outputs": [
    {
     "name": "stdout",
     "output_type": "stream",
     "text": [
      "2002-12-26\n"
     ]
    }
   ],
   "source": [
    "print(d.replace(day=26))"
   ]
  },
  {
   "cell_type": "code",
   "execution_count": 14,
   "id": "461ecc75",
   "metadata": {
    "ExecuteTime": {
     "end_time": "2023-08-11T12:27:19.381601Z",
     "start_time": "2023-08-11T12:27:19.121624Z"
    },
    "slideshow": {
     "slide_type": "slide"
    }
   },
   "outputs": [
    {
     "name": "stdout",
     "output_type": "stream",
     "text": [
      "time.struct_time(tm_year=2023, tm_mon=9, tm_mday=27, tm_hour=12, tm_min=15, tm_sec=48, tm_wday=2, tm_yday=270, tm_isdst=1)\n"
     ]
    }
   ],
   "source": [
    "# What time is it?\n",
    "\n",
    "import time\n",
    "\n",
    "print(time.localtime())"
   ]
  },
  {
   "cell_type": "code",
   "execution_count": 15,
   "id": "32bd1fa9",
   "metadata": {
    "ExecuteTime": {
     "end_time": "2023-08-11T12:27:19.381728Z",
     "start_time": "2023-08-11T12:27:19.124910Z"
    },
    "slideshow": {
     "slide_type": "fragment"
    }
   },
   "outputs": [
    {
     "data": {
      "text/plain": [
       "'vegard.h.larsen@bi.no'"
      ]
     },
     "execution_count": 15,
     "metadata": {},
     "output_type": "execute_result"
    }
   ],
   "source": [
    "# Clean up a string\n",
    "\n",
    "import re\n",
    "\n",
    "email = \"vegard.hRemove_this.larsen@bi.no\"\n",
    "m = re.search(\"Remove_this\", email)\n",
    "email[:m.start()] + email[m.end():]"
   ]
  },
  {
   "cell_type": "code",
   "execution_count": 16,
   "id": "55a24782",
   "metadata": {
    "ExecuteTime": {
     "end_time": "2023-08-11T12:27:19.652823Z",
     "start_time": "2023-08-11T12:27:19.126894Z"
    },
    "slideshow": {
     "slide_type": "fragment"
    }
   },
   "outputs": [
    {
     "name": "stdout",
     "output_type": "stream",
     "text": [
      "3.5\n"
     ]
    }
   ],
   "source": [
    "# Calculate the mean of a list\n",
    "\n",
    "import statistics\n",
    "\n",
    "print(statistics.mean([1, 2, 3, 4, 5, 6]))"
   ]
  },
  {
   "cell_type": "markdown",
   "id": "7da69a27",
   "metadata": {
    "slideshow": {
     "slide_type": "slide"
    }
   },
   "source": []
  }
 ],
 "metadata": {
  "celltoolbar": "Slideshow",
  "kernelspec": {
   "display_name": "Python 3 (ipykernel)",
   "language": "python",
   "name": "python3"
  },
  "language_info": {
   "codemirror_mode": {
    "name": "ipython",
    "version": 3
   },
   "file_extension": ".py",
   "mimetype": "text/x-python",
   "name": "python",
   "nbconvert_exporter": "python",
   "pygments_lexer": "ipython3",
   "version": "3.10.8"
  }
 },
 "nbformat": 4,
 "nbformat_minor": 5
}
