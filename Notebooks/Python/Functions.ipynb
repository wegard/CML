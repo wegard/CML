{
 "cells": [
  {
   "cell_type": "markdown",
   "metadata": {},
   "source": [
    "# Functions\n",
    "\n",
    "#### *Vegard H. Larsen (Department of Data Science and Analytics)*\n",
    "\n",
    "Functions serve as modular, reusable blocks of code designed to execute a specific task. Defined using the `def` keyword followed by a unique name and parentheses, functions encapsulate logic, making code more organized, readable, and maintainable. For instance, a function `add_numbers(a, b)` can be crafted to return the sum of two numbers. Once defined, this function can be \"called\" multiple times throughout the code with different arguments, producing varied results. Functions can accept input parameters, return results, and even have default values. Mastering functions is essential to foster a structured approach to coding. By breaking complex problems into smaller, solvable pieces via functions, you learn to write efficient, scalable, and modular code, crucial for larger programming projects."
   ]
  },
  {
   "cell_type": "markdown",
   "metadata": {
    "vscode": {
     "languageId": "plaintext"
    }
   },
   "source": [
    "## Functions\n",
    "\n",
    "- Functions are a great way of reusing code that you will use several times in your code. \n",
    "- A function is a block of code which only runs when it is called.\n",
    "- You can pass data to the function as parameters and the function can return data."
   ]
  },
  {
   "cell_type": "markdown",
   "metadata": {
    "vscode": {
     "languageId": "plaintext"
    }
   },
   "source": [
    "### Recipe for creating a function:\n",
    "1. The function must be created using the `def` keyword.\n",
    "2. Select a name for the function. \n",
    "    - Use a name that describes what the function does\n",
    "3. Select the parameters that will be the inputs to the function. It is possible to create a function with no parameters.\n",
    "4. Write the code that make the function do what we want\n",
    "    - Note that variables defined within a function body is not available outside the function\n",
    "5. End the function with the `return` keyword to return the output. This is optional. The function will return None if the `return` keyword is skipped."
   ]
  },
  {
   "cell_type": "markdown",
   "metadata": {
    "vscode": {
     "languageId": "plaintext"
    }
   },
   "source": [
    "## The structure of a Python function:"
   ]
  },
  {
   "cell_type": "code",
   "execution_count": null,
   "metadata": {},
   "outputs": [],
   "source": [
    "# The first line of the function is called the header\n",
    "def nameOfFunction(first_parameter, second_parameter):\n",
    "    # The code for the function goes here and it is called the body of the function\n",
    "    # Having the right indentation is crucial for Python to understand what the body of the function is\n",
    "    return first_return_variable, second_return_variable \n",
    "# If no return statement is provided the function return None"
   ]
  },
  {
   "cell_type": "markdown",
   "metadata": {},
   "source": [
    "## Some examples:"
   ]
  },
  {
   "cell_type": "code",
   "execution_count": null,
   "metadata": {},
   "outputs": [],
   "source": []
  },
  {
   "cell_type": "code",
   "execution_count": 2,
   "metadata": {},
   "outputs": [],
   "source": [
    "def scream(string):\n",
    "    print(string.upper() + '!!')\n",
    "    return(string.capitalize())"
   ]
  },
  {
   "cell_type": "code",
   "execution_count": 3,
   "metadata": {},
   "outputs": [
    {
     "name": "stdout",
     "output_type": "stream",
     "text": [
      "HALLO!!\n"
     ]
    },
    {
     "data": {
      "text/plain": [
       "'Hallo'"
      ]
     },
     "execution_count": 3,
     "metadata": {},
     "output_type": "execute_result"
    }
   ],
   "source": [
    "scream('hallo')"
   ]
  },
  {
   "cell_type": "code",
   "execution_count": null,
   "metadata": {},
   "outputs": [],
   "source": [
    "'hei'"
   ]
  },
  {
   "cell_type": "code",
   "execution_count": null,
   "metadata": {},
   "outputs": [],
   "source": [
    "value = scream('hi')"
   ]
  },
  {
   "cell_type": "code",
   "execution_count": null,
   "metadata": {},
   "outputs": [],
   "source": [
    "value"
   ]
  },
  {
   "cell_type": "markdown",
   "metadata": {},
   "source": [
    "# Example of a function that converts Fahrenheit to Celsius (and Kelvin)"
   ]
  },
  {
   "cell_type": "code",
   "execution_count": null,
   "metadata": {},
   "outputs": [],
   "source": [
    "# A function that converts a temperature given in Fahrenheit to Celsius\n",
    "\n",
    "def fahrenheit2celsius(fahrenheit):\n",
    "    celsius = (5 / 9) * (fahrenheit - 32)\n",
    "    return celsius"
   ]
  },
  {
   "cell_type": "code",
   "execution_count": null,
   "metadata": {},
   "outputs": [],
   "source": [
    "fahrenheit2celsius(-40)"
   ]
  },
  {
   "cell_type": "markdown",
   "metadata": {},
   "source": [
    "#### What about Fahrenheit to Kelvin?"
   ]
  },
  {
   "cell_type": "code",
   "execution_count": null,
   "metadata": {},
   "outputs": [],
   "source": [
    "# A function that converts Fahrenheit to Kelvin\n",
    "\n",
    "def fahrenheit2kelvin(fahrenheit):\n",
    "    kelvin = 273.15 + fahrenheit2celsius(fahrenheit)\n",
    "    return(kelvin)"
   ]
  },
  {
   "cell_type": "code",
   "execution_count": null,
   "metadata": {},
   "outputs": [],
   "source": [
    "fahrenheit2kelvin(32)"
   ]
  },
  {
   "cell_type": "markdown",
   "metadata": {},
   "source": [
    "## Make a function that behaves like a dice"
   ]
  },
  {
   "cell_type": "code",
   "execution_count": null,
   "metadata": {},
   "outputs": [],
   "source": [
    "# The probability of getting a 6 using a fair dice is 1/6=0.16666666...\n",
    "\n",
    "import random\n",
    "\n",
    "def dice():\n",
    "    dice_value = random.choice([1, 2, 3, 4, 5, 6])\n",
    "    return(dice_value)"
   ]
  },
  {
   "cell_type": "code",
   "execution_count": null,
   "metadata": {},
   "outputs": [],
   "source": [
    "# Throw the dice\n",
    "\n",
    "dice()"
   ]
  },
  {
   "cell_type": "code",
   "execution_count": null,
   "metadata": {},
   "outputs": [],
   "source": [
    "# The probability of getting a 6 using the cheating dice is 3/9=0.333333.. \n",
    "\n",
    "def cheating_dice():\n",
    "    dice_value = random.choice([1, 2, 3, 4, 5, 5, 6, 6, 6])\n",
    "    return(dice_value)"
   ]
  },
  {
   "cell_type": "code",
   "execution_count": null,
   "metadata": {},
   "outputs": [],
   "source": [
    "cheating_dice()"
   ]
  },
  {
   "cell_type": "code",
   "execution_count": null,
   "metadata": {},
   "outputs": [],
   "source": [
    "# Throw the cheating dice \n",
    "cheating_dice()"
   ]
  },
  {
   "cell_type": "code",
   "execution_count": null,
   "metadata": {},
   "outputs": [],
   "source": [
    "# Let's do an experiment throwing the dice 50 000 times\n",
    "\n",
    "number_of_throws = 5000000\n",
    "\n",
    "values_dice = []\n",
    "values_cheating_dice = []\n",
    "\n",
    "for i in range(number_of_throws):\n",
    "    values_dice.append(dice())\n",
    "    values_cheating_dice.append(cheating_dice())"
   ]
  },
  {
   "cell_type": "code",
   "execution_count": null,
   "metadata": {},
   "outputs": [],
   "source": [
    "#print(values_cheating_dice)"
   ]
  },
  {
   "cell_type": "code",
   "execution_count": null,
   "metadata": {},
   "outputs": [],
   "source": [
    "print('The probability of getting a 6:')\n",
    "print('Fair dice probability is ' + str(values_dice.count(6)/number_of_throws))\n",
    "print('Cheating dice probability is ' + str(values_cheating_dice.count(6)/number_of_throws))\n",
    "print('')\n",
    "print('The probability of getting a 1:')\n",
    "print('Fair dice probability is ' + str(values_dice.count(1)/number_of_throws))\n",
    "print('Cheating dice probability is ' + str(values_cheating_dice.count(1)/number_of_throws))"
   ]
  },
  {
   "cell_type": "code",
   "execution_count": null,
   "metadata": {},
   "outputs": [],
   "source": [
    "def valueDice(list_throws, number):\n",
    "    return list_throws.count(number)/len(list_throws)"
   ]
  },
  {
   "cell_type": "code",
   "execution_count": null,
   "metadata": {},
   "outputs": [],
   "source": [
    "valueDice(values_cheating_dice, 6)"
   ]
  },
  {
   "cell_type": "code",
   "execution_count": null,
   "metadata": {},
   "outputs": [],
   "source": [
    "def myFunc(number1, number2):\n",
    "    '''\n",
    "    This function adds two numbers\n",
    "    '''\n",
    "    return number1, number2"
   ]
  },
  {
   "cell_type": "code",
   "execution_count": null,
   "metadata": {},
   "outputs": [],
   "source": [
    "num1, num2 = myFunc(3,6)"
   ]
  },
  {
   "cell_type": "code",
   "execution_count": null,
   "metadata": {},
   "outputs": [],
   "source": [
    "num1"
   ]
  },
  {
   "cell_type": "code",
   "execution_count": null,
   "metadata": {},
   "outputs": [],
   "source": [
    "num2"
   ]
  },
  {
   "cell_type": "code",
   "execution_count": null,
   "metadata": {},
   "outputs": [],
   "source": [
    "def sortList(a_list):\n",
    "    #copy_list = a_list.copy()\n",
    "    a_list.sort()\n",
    "    return a_list"
   ]
  },
  {
   "cell_type": "code",
   "execution_count": null,
   "metadata": {},
   "outputs": [],
   "source": [
    "my_list = [3, 6, 2, 5]"
   ]
  },
  {
   "cell_type": "code",
   "execution_count": null,
   "metadata": {},
   "outputs": [],
   "source": [
    "sortList(my_list)"
   ]
  },
  {
   "cell_type": "code",
   "execution_count": null,
   "metadata": {},
   "outputs": [],
   "source": [
    "my_list"
   ]
  },
  {
   "cell_type": "code",
   "execution_count": null,
   "metadata": {},
   "outputs": [],
   "source": [
    "my_list.sort()"
   ]
  },
  {
   "cell_type": "code",
   "execution_count": null,
   "metadata": {},
   "outputs": [],
   "source": [
    "my_list"
   ]
  },
  {
   "cell_type": "code",
   "execution_count": null,
   "metadata": {},
   "outputs": [],
   "source": []
  }
 ],
 "metadata": {
  "kernelspec": {
   "display_name": "Python 3",
   "language": "python",
   "name": "python3"
  },
  "language_info": {
   "codemirror_mode": {
    "name": "ipython",
    "version": 3
   },
   "file_extension": ".py",
   "mimetype": "text/x-python",
   "name": "python",
   "nbconvert_exporter": "python",
   "pygments_lexer": "ipython3",
   "version": "3.10.12"
  }
 },
 "nbformat": 4,
 "nbformat_minor": 2
}
