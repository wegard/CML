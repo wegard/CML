{
 "cells": [
  {
   "cell_type": "markdown",
   "metadata": {},
   "source": [
    "# Supervised Learning with $k$-NN\n",
    "\n",
    "#### *Vegard H. Larsen (Department of Data Science and Analytics)*"
   ]
  },
  {
   "cell_type": "markdown",
   "metadata": {},
   "source": [
    "## Definition of supervised learning\n",
    "\n",
    "Supervised learning is a type of machine learning in which a model is trained on labeled data. This means that the data used to train the model includes both input data and corresponding correct output labels. The goal of supervised learning is to use the labeled training data to learn the relationship between the input and output data, and then make predictions on new, unseen data.\n",
    "\n",
    "During the training phase, the model is presented with the input data and the corresponding correct output labels. The model makes predictions based on the input data, and then compares its predictions to the correct labels to determine how accurate they are. The model is then adjusted, or \"trained\", based on the error between its predictions and the correct labels. This process is repeated multiple times, using different portions of the training data or different combinations of training and validation data, until the model reaches a satisfactory level of accuracy. Once the model is trained, it can be used to make predictions on new, unseen data."
   ]
  },
  {
   "cell_type": "markdown",
   "metadata": {},
   "source": [
    "## Examples of supervised learning problems\n",
    "\n",
    "1. **Classification**: The goal is to predict a discrete class label (e.g., \"spam\" or \"not spam\" for an email classification problem).\n",
    "2. **Regression**: The goal is to predict a continuous numerical value (e.g., the price of a house based on its characteristics).\n",
    "3. **Forecasting**: The goal is to predict future values of a given time series (e.g., stock prices or weather data).\n",
    "4. **Object recognition**: The goal is to classify objects in images or videos based on their characteristics.\n",
    "5. **Speech recognition**: The goal is to transcribe spoken language into written text."
   ]
  },
  {
   "cell_type": "code",
   "execution_count": null,
   "metadata": {},
   "outputs": [],
   "source": []
  }
 ],
 "metadata": {
  "kernelspec": {
   "display_name": "Python 3 (ipykernel)",
   "language": "python",
   "name": "python3"
  },
  "language_info": {
   "codemirror_mode": {
    "name": "ipython",
    "version": 3
   },
   "file_extension": ".py",
   "mimetype": "text/x-python",
   "name": "python",
   "nbconvert_exporter": "python",
   "pygments_lexer": "ipython3",
   "version": "3.9.18"
  }
 },
 "nbformat": 4,
 "nbformat_minor": 4
}
