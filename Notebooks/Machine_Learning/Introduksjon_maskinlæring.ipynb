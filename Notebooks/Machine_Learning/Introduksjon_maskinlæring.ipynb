{
 "cells": [
  {
   "cell_type": "markdown",
   "metadata": {},
   "source": [
    "# Introduksjon til maskinlæring\n",
    "\n",
    "Maskinlæring er en gren av kunstig intelligens som fokuserer på å bygge systemer som kan lære fra data. Maskinlæringssystemer kan identifisere mønstre i data, og bruke disse mønstrene til å gjøre forutsigelser eller ta beslutninger. Maskinlæring har mange praktiske anvendelser, inkludert anbefalingssystemer, talegjenkjenning, bildegjenkjenning og medisinsk diagnose.\n",
    "\n",
    "Innenfor finans er maskinlæring brukt for å forutsi aksjekurser, kredittscore og svindel."
   ]
  }
 ],
 "metadata": {
  "language_info": {
   "name": "python"
  }
 },
 "nbformat": 4,
 "nbformat_minor": 2
}
